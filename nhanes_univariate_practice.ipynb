{
  "cells": [
    {
      "cell_type": "markdown",
      "metadata": {
        "id": "view-in-github",
        "colab_type": "text"
      },
      "source": [
        "<a href=\"https://colab.research.google.com/github/eugenewong-ai/refresher/blob/main/nhanes_univariate_practice.ipynb\" target=\"_parent\"><img src=\"https://colab.research.google.com/assets/colab-badge.svg\" alt=\"Open In Colab\"/></a>"
      ]
    },
    {
      "cell_type": "markdown",
      "metadata": {
        "id": "kSFsYXSEnBZa"
      },
      "source": [
        "# Practice notebook for univariate analysis using NHANES data\n",
        "\n",
        "This notebook will give you the opportunity to perform some univariate analyses on your own using the NHANES.  These analyses are similar to what was done in the week 2 NHANES case study notebook.\n",
        "\n",
        "You can enter your code into the cells that say \"enter your code here\", and you can type responses to the questions into the cells that say \"Type Markdown and Latex\".\n",
        "\n",
        "Note that most of the code that you will need to write below is very similar to code that appears in the case study notebook.  You will need to edit code from that notebook in small ways to adapt it to the prompts below.\n",
        "\n",
        "To get started, we will use the same module imports and read the data in the same way as we did in the case study:"
      ]
    },
    {
      "cell_type": "code",
      "execution_count": null,
      "metadata": {
        "id": "-lvVaN_1nBZc"
      },
      "outputs": [],
      "source": [
        "%matplotlib inline\n",
        "import matplotlib.pyplot as plt\n",
        "import seaborn as sns\n",
        "import pandas as pd\n",
        "import statsmodels.api as sm\n",
        "import numpy as np\n",
        "\n",
        "da = pd.read_csv(\"nhanes_2015_2016.csv\")"
      ]
    },
    {
      "cell_type": "markdown",
      "metadata": {
        "id": "4N-FtiN6nBZd"
      },
      "source": [
        "## Question 1\n",
        "\n",
        "Relabel the marital status variable [DMDMARTL](https://wwwn.cdc.gov/Nchs/Nhanes/2015-2016/DEMO_I.htm#DMDMARTL) to have brief but informative character labels.  Then construct a frequency table of these values for all people, then for women only, and for men only.  Then construct these three frequency tables using only people whose age is between 30 and 40."
      ]
    },
    {
      "cell_type": "code",
      "execution_count": null,
      "metadata": {
        "id": "vNf15YuMnBZd"
      },
      "outputs": [],
      "source": [
        "da['DMDMARTL'] = da['DMDMARTL'].replace({1:'Married', 2:'Widowed', 3:'Divorced', 4:'Separated', 5:'Never married', 6:'Living with partner',\n",
        "                       77: 'Refused', 99:'Don\\'t Know'}).fillna('Missing')\n",
        "                        "
      ]
    },
    {
      "cell_type": "code",
      "execution_count": null,
      "metadata": {
        "id": "1Nzi_UOLnBZe"
      },
      "outputs": [],
      "source": [
        "da['RIAGENDR'] = da['RIAGENDR'].replace({1:'Male',2:'Female'}).fillna('Missing')"
      ]
    },
    {
      "cell_type": "code",
      "execution_count": null,
      "metadata": {
        "id": "HogbuQZgnBZe"
      },
      "outputs": [],
      "source": [
        "da_male = da.loc[(da['RIAGENDR']=='Male') & (da['RIDAGEYR'])<=40 & (da['RIDAGEYR']>=30)]['DMDMARTL']"
      ]
    },
    {
      "cell_type": "code",
      "execution_count": null,
      "metadata": {
        "id": "mJBSx-57nBZe"
      },
      "outputs": [],
      "source": [
        "da_female = da.loc[(da['RIAGENDR']=='Female') & (da['RIDAGEYR'])<=40 & (da['RIDAGEYR']>=30)]['DMDMARTL']"
      ]
    },
    {
      "cell_type": "code",
      "execution_count": null,
      "metadata": {
        "id": "i6L9ms1inBZe"
      },
      "outputs": [],
      "source": [
        "# insert your code here\n",
        "da_all = da.loc[(da['RIDAGEYR']<=40) & (da['RIDAGEYR']>=30)]['DMDMARTL']"
      ]
    },
    {
      "cell_type": "code",
      "execution_count": null,
      "metadata": {
        "id": "T720K-0TnBZf",
        "outputId": "521e5ccf-6d07-4b54-bc00-2b964a2b6509"
      },
      "outputs": [
        {
          "data": {
            "text/plain": [
              "Married                2082\n",
              "Never married           778\n",
              "Divorced                469\n",
              "Living with partner     397\n",
              "Widowed                 364\n",
              "Missing                 189\n",
              "Separated               149\n",
              "Refused                   1\n",
              "Name: DMDMARTL, dtype: int64"
            ]
          },
          "execution_count": 7,
          "metadata": {},
          "output_type": "execute_result"
        }
      ],
      "source": [
        "da_male.value_counts()"
      ]
    },
    {
      "cell_type": "code",
      "execution_count": null,
      "metadata": {
        "id": "gnRnAvOunBZg",
        "outputId": "3ffca57e-ab1b-4857-a2e1-0bd315432473"
      },
      "outputs": [
        {
          "data": {
            "text/plain": [
              "Married                2146\n",
              "Never married           767\n",
              "Divorced                428\n",
              "Living with partner     398\n",
              "Widowed                 291\n",
              "Missing                 205\n",
              "Separated               140\n",
              "Refused                   2\n",
              "Name: DMDMARTL, dtype: int64"
            ]
          },
          "execution_count": 8,
          "metadata": {},
          "output_type": "execute_result"
        }
      ],
      "source": [
        "da_female.value_counts()"
      ]
    },
    {
      "cell_type": "code",
      "execution_count": null,
      "metadata": {
        "id": "st4z318gnBZg",
        "outputId": "e3b153e7-3a27-45ea-9a36-508a75bfb493"
      },
      "outputs": [
        {
          "data": {
            "text/plain": [
              "Married                560\n",
              "Never married          217\n",
              "Living with partner    143\n",
              "Divorced                70\n",
              "Separated               30\n",
              "Widowed                  5\n",
              "Refused                  1\n",
              "Name: DMDMARTL, dtype: int64"
            ]
          },
          "execution_count": 9,
          "metadata": {},
          "output_type": "execute_result"
        }
      ],
      "source": [
        "da_all.value_counts()"
      ]
    },
    {
      "cell_type": "markdown",
      "metadata": {
        "id": "9a0qrq-6nBZg"
      },
      "source": [
        "__Q1a.__ Briefly comment on some of the differences that you observe between the distribution of marital status between women and men, for people of all ages."
      ]
    },
    {
      "cell_type": "code",
      "execution_count": null,
      "metadata": {
        "id": "hnFXngjrnBZh",
        "outputId": "b88f4e99-b46d-4dfe-b649-a3d62d9c0ccd"
      },
      "outputs": [
        {
          "data": {
            "text/plain": [
              "<matplotlib.axes._subplots.AxesSubplot at 0x7f72323bb6a0>"
            ]
          },
          "execution_count": 23,
          "metadata": {},
          "output_type": "execute_result"
        },
        {
          "data": {
            "image/png": "[encoded data removed]",
            "text/plain": [
              "<Figure size 432x288 with 1 Axes>"
            ]
          },
          "metadata": {},
          "output_type": "display_data"
        }
      ],
      "source": [
        "sns.distplot((da['DMDMARTL']=='Married').astype(int))"
      ]
    },
    {
      "cell_type": "markdown",
      "metadata": {
        "id": "JiT4Po6JnBZh"
      },
      "source": [
        "__Q1b.__ Briefly comment on the differences that you observe between the distribution of marital status states for women between the overall population, and for women between the ages of 30 and 40."
      ]
    },
    {
      "cell_type": "code",
      "execution_count": null,
      "metadata": {
        "id": "wX_s4M5XnBZh",
        "outputId": "4d69cf61-f8ea-4c93-a369-fb08fede995d"
      },
      "outputs": [
        {
          "data": {
            "text/plain": [
              "<matplotlib.axes._subplots.AxesSubplot at 0x7f72321efcc0>"
            ]
          },
          "execution_count": 27,
          "metadata": {},
          "output_type": "execute_result"
        },
        {
          "data": {
            "image/png": "[encoded data removed]",
            "text/plain": [
              "<Figure size 432x288 with 1 Axes>"
            ]
          },
          "metadata": {},
          "output_type": "display_data"
        }
      ],
      "source": [
        "sns.distplot((da_female=='Married').astype(int))"
      ]
    },
    {
      "cell_type": "markdown",
      "metadata": {
        "id": "TU7Bs2menBZh"
      },
      "source": [
        "__Q1c.__ Repeat part b for the men."
      ]
    },
    {
      "cell_type": "code",
      "execution_count": null,
      "metadata": {
        "id": "8a5A7yVgnBZi",
        "outputId": "b4b5e0eb-2048-47ad-deab-dda9c9548a65"
      },
      "outputs": [
        {
          "data": {
            "text/plain": [
              "<matplotlib.axes._subplots.AxesSubplot at 0x7f72321d2a90>"
            ]
          },
          "execution_count": 28,
          "metadata": {},
          "output_type": "execute_result"
        },
        {
          "data": {
            "image/png": "[encoded data removed]",
            "text/plain": [
              "<Figure size 432x288 with 1 Axes>"
            ]
          },
          "metadata": {},
          "output_type": "display_data"
        }
      ],
      "source": [
        "sns.distplot((da_male=='Married').astype(int))"
      ]
    },
    {
      "cell_type": "markdown",
      "metadata": {
        "id": "pQreFYKUnBZi"
      },
      "source": [
        "## Question 2\n",
        "\n",
        "Restricting to the female population, stratify the subjects into age bands no wider than ten years, and construct the distribution of marital status within each age band.  Within each age band, present the distribution in terms of proportions that must sum to 1."
      ]
    },
    {
      "cell_type": "code",
      "execution_count": null,
      "metadata": {
        "id": "Z009qr9lnBZi",
        "outputId": "4537b063-ce07-49c9-f699-23db070f5172"
      },
      "outputs": [
        {
          "data": {
            "text/plain": [
              "80"
            ]
          },
          "execution_count": 33,
          "metadata": {},
          "output_type": "execute_result"
        }
      ],
      "source": [
        "np.max(da['RIDAGEYR'])"
      ]
    },
    {
      "cell_type": "code",
      "execution_count": null,
      "metadata": {
        "id": "UkMQnfghnBZi",
        "outputId": "47a7767e-2298-4b95-f1c8-679f69be68dc"
      },
      "outputs": [
        {
          "data": {
            "text/plain": [
              "18"
            ]
          },
          "execution_count": 34,
          "metadata": {},
          "output_type": "execute_result"
        }
      ],
      "source": [
        "np.min(da['RIDAGEYR'])"
      ]
    },
    {
      "cell_type": "code",
      "execution_count": null,
      "metadata": {
        "id": "LeT6jIrunBZj"
      },
      "outputs": [],
      "source": [
        "# insert your code here\n",
        "da['agegrp'] = pd.cut(da['RIDAGEYR'], [10,20,30,40,50,60,70,80])"
      ]
    },
    {
      "cell_type": "code",
      "execution_count": null,
      "metadata": {
        "id": "lAL7ZARbnBZj",
        "outputId": "67d1e3e1-e83c-40df-c297-21f589b1116d"
      },
      "outputs": [
        {
          "data": {
            "text/plain": [
              "agegrp    DMDMARTL           \n",
              "(10, 20]  Missing                261\n",
              "          Never married           66\n",
              "          Living with partner     11\n",
              "          Married                  2\n",
              "(20, 30]  Never married          455\n",
              "          Married                260\n",
              "          Living with partner    198\n",
              "          Separated               18\n",
              "          Divorced                13\n",
              "          Widowed                  2\n",
              "(30, 40]  Married                516\n",
              "          Never married          186\n",
              "          Living with partner    129\n",
              "          Divorced                67\n",
              "          Separated               29\n",
              "          Widowed                  4\n",
              "          Refused                  1\n",
              "(40, 50]  Married                570\n",
              "          Divorced               103\n",
              "          Never married          102\n",
              "          Living with partner     70\n",
              "          Separated               44\n",
              "          Widowed                 14\n",
              "(50, 60]  Married                553\n",
              "          Divorced               140\n",
              "          Never married           89\n",
              "          Living with partner     66\n",
              "          Widowed                 38\n",
              "          Separated               37\n",
              "          Refused                  1\n",
              "(60, 70]  Married                503\n",
              "          Divorced               140\n",
              "          Widowed                 82\n",
              "          Never married           76\n",
              "          Living with partner     41\n",
              "          Separated               36\n",
              "(70, 80]  Married                376\n",
              "          Widowed                256\n",
              "          Divorced               116\n",
              "          Never married           30\n",
              "          Separated               22\n",
              "          Living with partner     12\n",
              "Name: DMDMARTL, dtype: int64"
            ]
          },
          "execution_count": 47,
          "metadata": {},
          "output_type": "execute_result"
        }
      ],
      "source": [
        "da.groupby(['agegrp'])['DMDMARTL'].value_counts()"
      ]
    },
    {
      "cell_type": "code",
      "execution_count": null,
      "metadata": {
        "id": "gv_CdIZrnBZk"
      },
      "outputs": [],
      "source": [
        "dx = da.groupby(['agegrp'])['DMDMARTL'].value_counts()"
      ]
    },
    {
      "cell_type": "code",
      "execution_count": null,
      "metadata": {
        "id": "YLxbiXT9nBZk"
      },
      "outputs": [],
      "source": [
        "dx = dx.unstack()"
      ]
    },
    {
      "cell_type": "code",
      "execution_count": null,
      "metadata": {
        "id": "wVvuuD-RnBZk",
        "outputId": "6d0a44d7-0704-4ac1-95c2-f38f64ecc0c7"
      },
      "outputs": [
        {
          "data": {
            "text/html": [
              "<div>\n",
              "<style scoped>\n",
              "    .dataframe tbody tr th:only-of-type {\n",
              "        vertical-align: middle;\n",
              "    }\n",
              "\n",
              "    .dataframe tbody tr th {\n",
              "        vertical-align: top;\n",
              "    }\n",
              "\n",
              "    .dataframe thead th {\n",
              "        text-align: right;\n",
              "    }\n",
              "</style>\n",
              "<table border=\"1\" class=\"dataframe\">\n",
              "  <thead>\n",
              "    <tr style=\"text-align: right;\">\n",
              "      <th>DMDMARTL</th>\n",
              "      <th>Divorced</th>\n",
              "      <th>Living with partner</th>\n",
              "      <th>Married</th>\n",
              "      <th>Missing</th>\n",
              "      <th>Never married</th>\n",
              "      <th>Refused</th>\n",
              "      <th>Separated</th>\n",
              "      <th>Widowed</th>\n",
              "    </tr>\n",
              "    <tr>\n",
              "      <th>agegrp</th>\n",
              "      <th></th>\n",
              "      <th></th>\n",
              "      <th></th>\n",
              "      <th></th>\n",
              "      <th></th>\n",
              "      <th></th>\n",
              "      <th></th>\n",
              "      <th></th>\n",
              "    </tr>\n",
              "  </thead>\n",
              "  <tbody>\n",
              "    <tr>\n",
              "      <th>(10, 20]</th>\n",
              "      <td>NaN</td>\n",
              "      <td>11.0</td>\n",
              "      <td>2.0</td>\n",
              "      <td>261.0</td>\n",
              "      <td>66.0</td>\n",
              "      <td>NaN</td>\n",
              "      <td>NaN</td>\n",
              "      <td>NaN</td>\n",
              "    </tr>\n",
              "    <tr>\n",
              "      <th>(20, 30]</th>\n",
              "      <td>13.0</td>\n",
              "      <td>198.0</td>\n",
              "      <td>260.0</td>\n",
              "      <td>NaN</td>\n",
              "      <td>455.0</td>\n",
              "      <td>NaN</td>\n",
              "      <td>18.0</td>\n",
              "      <td>2.0</td>\n",
              "    </tr>\n",
              "    <tr>\n",
              "      <th>(30, 40]</th>\n",
              "      <td>67.0</td>\n",
              "      <td>129.0</td>\n",
              "      <td>516.0</td>\n",
              "      <td>NaN</td>\n",
              "      <td>186.0</td>\n",
              "      <td>1.0</td>\n",
              "      <td>29.0</td>\n",
              "      <td>4.0</td>\n",
              "    </tr>\n",
              "    <tr>\n",
              "      <th>(40, 50]</th>\n",
              "      <td>103.0</td>\n",
              "      <td>70.0</td>\n",
              "      <td>570.0</td>\n",
              "      <td>NaN</td>\n",
              "      <td>102.0</td>\n",
              "      <td>NaN</td>\n",
              "      <td>44.0</td>\n",
              "      <td>14.0</td>\n",
              "    </tr>\n",
              "    <tr>\n",
              "      <th>(50, 60]</th>\n",
              "      <td>140.0</td>\n",
              "      <td>66.0</td>\n",
              "      <td>553.0</td>\n",
              "      <td>NaN</td>\n",
              "      <td>89.0</td>\n",
              "      <td>1.0</td>\n",
              "      <td>37.0</td>\n",
              "      <td>38.0</td>\n",
              "    </tr>\n",
              "    <tr>\n",
              "      <th>(60, 70]</th>\n",
              "      <td>140.0</td>\n",
              "      <td>41.0</td>\n",
              "      <td>503.0</td>\n",
              "      <td>NaN</td>\n",
              "      <td>76.0</td>\n",
              "      <td>NaN</td>\n",
              "      <td>36.0</td>\n",
              "      <td>82.0</td>\n",
              "    </tr>\n",
              "    <tr>\n",
              "      <th>(70, 80]</th>\n",
              "      <td>116.0</td>\n",
              "      <td>12.0</td>\n",
              "      <td>376.0</td>\n",
              "      <td>NaN</td>\n",
              "      <td>30.0</td>\n",
              "      <td>NaN</td>\n",
              "      <td>22.0</td>\n",
              "      <td>256.0</td>\n",
              "    </tr>\n",
              "  </tbody>\n",
              "</table>\n",
              "</div>"
            ],
            "text/plain": [
              "DMDMARTL  Divorced  Living with partner  Married  Missing  Never married  \\\n",
              "agegrp                                                                     \n",
              "(10, 20]       NaN                 11.0      2.0    261.0           66.0   \n",
              "(20, 30]      13.0                198.0    260.0      NaN          455.0   \n",
              "(30, 40]      67.0                129.0    516.0      NaN          186.0   \n",
              "(40, 50]     103.0                 70.0    570.0      NaN          102.0   \n",
              "(50, 60]     140.0                 66.0    553.0      NaN           89.0   \n",
              "(60, 70]     140.0                 41.0    503.0      NaN           76.0   \n",
              "(70, 80]     116.0                 12.0    376.0      NaN           30.0   \n",
              "\n",
              "DMDMARTL  Refused  Separated  Widowed  \n",
              "agegrp                                 \n",
              "(10, 20]      NaN        NaN      NaN  \n",
              "(20, 30]      NaN       18.0      2.0  \n",
              "(30, 40]      1.0       29.0      4.0  \n",
              "(40, 50]      NaN       44.0     14.0  \n",
              "(50, 60]      1.0       37.0     38.0  \n",
              "(60, 70]      NaN       36.0     82.0  \n",
              "(70, 80]      NaN       22.0    256.0  "
            ]
          },
          "execution_count": 55,
          "metadata": {},
          "output_type": "execute_result"
        }
      ],
      "source": [
        "dx"
      ]
    },
    {
      "cell_type": "code",
      "execution_count": null,
      "metadata": {
        "id": "81uXgUiinBZk"
      },
      "outputs": [],
      "source": [
        "dx = dx.fillna(0)"
      ]
    },
    {
      "cell_type": "code",
      "execution_count": null,
      "metadata": {
        "id": "5db25XB0nBZk",
        "outputId": "976d02c6-e774-4f1d-9e8c-acd580e6af0e"
      },
      "outputs": [
        {
          "data": {
            "text/html": [
              "<div>\n",
              "<style scoped>\n",
              "    .dataframe tbody tr th:only-of-type {\n",
              "        vertical-align: middle;\n",
              "    }\n",
              "\n",
              "    .dataframe tbody tr th {\n",
              "        vertical-align: top;\n",
              "    }\n",
              "\n",
              "    .dataframe thead th {\n",
              "        text-align: right;\n",
              "    }\n",
              "</style>\n",
              "<table border=\"1\" class=\"dataframe\">\n",
              "  <thead>\n",
              "    <tr style=\"text-align: right;\">\n",
              "      <th>DMDMARTL</th>\n",
              "      <th>Divorced</th>\n",
              "      <th>Living with partner</th>\n",
              "      <th>Married</th>\n",
              "      <th>Missing</th>\n",
              "      <th>Never married</th>\n",
              "      <th>Refused</th>\n",
              "      <th>Separated</th>\n",
              "      <th>Widowed</th>\n",
              "    </tr>\n",
              "    <tr>\n",
              "      <th>agegrp</th>\n",
              "      <th></th>\n",
              "      <th></th>\n",
              "      <th></th>\n",
              "      <th></th>\n",
              "      <th></th>\n",
              "      <th></th>\n",
              "      <th></th>\n",
              "      <th></th>\n",
              "    </tr>\n",
              "  </thead>\n",
              "  <tbody>\n",
              "    <tr>\n",
              "      <th>(10, 20]</th>\n",
              "      <td>0.000000</td>\n",
              "      <td>0.032353</td>\n",
              "      <td>0.005882</td>\n",
              "      <td>0.767647</td>\n",
              "      <td>0.194118</td>\n",
              "      <td>0.000000</td>\n",
              "      <td>0.000000</td>\n",
              "      <td>0.000000</td>\n",
              "    </tr>\n",
              "    <tr>\n",
              "      <th>(20, 30]</th>\n",
              "      <td>0.013742</td>\n",
              "      <td>0.209302</td>\n",
              "      <td>0.274841</td>\n",
              "      <td>0.000000</td>\n",
              "      <td>0.480973</td>\n",
              "      <td>0.000000</td>\n",
              "      <td>0.019027</td>\n",
              "      <td>0.002114</td>\n",
              "    </tr>\n",
              "    <tr>\n",
              "      <th>(30, 40]</th>\n",
              "      <td>0.071888</td>\n",
              "      <td>0.138412</td>\n",
              "      <td>0.553648</td>\n",
              "      <td>0.000000</td>\n",
              "      <td>0.199571</td>\n",
              "      <td>0.001073</td>\n",
              "      <td>0.031116</td>\n",
              "      <td>0.004292</td>\n",
              "    </tr>\n",
              "    <tr>\n",
              "      <th>(40, 50]</th>\n",
              "      <td>0.114064</td>\n",
              "      <td>0.077519</td>\n",
              "      <td>0.631229</td>\n",
              "      <td>0.000000</td>\n",
              "      <td>0.112957</td>\n",
              "      <td>0.000000</td>\n",
              "      <td>0.048726</td>\n",
              "      <td>0.015504</td>\n",
              "    </tr>\n",
              "    <tr>\n",
              "      <th>(50, 60]</th>\n",
              "      <td>0.151515</td>\n",
              "      <td>0.071429</td>\n",
              "      <td>0.598485</td>\n",
              "      <td>0.000000</td>\n",
              "      <td>0.096320</td>\n",
              "      <td>0.001082</td>\n",
              "      <td>0.040043</td>\n",
              "      <td>0.041126</td>\n",
              "    </tr>\n",
              "    <tr>\n",
              "      <th>(60, 70]</th>\n",
              "      <td>0.159453</td>\n",
              "      <td>0.046697</td>\n",
              "      <td>0.572893</td>\n",
              "      <td>0.000000</td>\n",
              "      <td>0.086560</td>\n",
              "      <td>0.000000</td>\n",
              "      <td>0.041002</td>\n",
              "      <td>0.093394</td>\n",
              "    </tr>\n",
              "    <tr>\n",
              "      <th>(70, 80]</th>\n",
              "      <td>0.142857</td>\n",
              "      <td>0.014778</td>\n",
              "      <td>0.463054</td>\n",
              "      <td>0.000000</td>\n",
              "      <td>0.036946</td>\n",
              "      <td>0.000000</td>\n",
              "      <td>0.027094</td>\n",
              "      <td>0.315271</td>\n",
              "    </tr>\n",
              "  </tbody>\n",
              "</table>\n",
              "</div>"
            ],
            "text/plain": [
              "DMDMARTL  Divorced  Living with partner   Married   Missing  Never married  \\\n",
              "agegrp                                                                       \n",
              "(10, 20]  0.000000             0.032353  0.005882  0.767647       0.194118   \n",
              "(20, 30]  0.013742             0.209302  0.274841  0.000000       0.480973   \n",
              "(30, 40]  0.071888             0.138412  0.553648  0.000000       0.199571   \n",
              "(40, 50]  0.114064             0.077519  0.631229  0.000000       0.112957   \n",
              "(50, 60]  0.151515             0.071429  0.598485  0.000000       0.096320   \n",
              "(60, 70]  0.159453             0.046697  0.572893  0.000000       0.086560   \n",
              "(70, 80]  0.142857             0.014778  0.463054  0.000000       0.036946   \n",
              "\n",
              "DMDMARTL   Refused  Separated   Widowed  \n",
              "agegrp                                   \n",
              "(10, 20]  0.000000   0.000000  0.000000  \n",
              "(20, 30]  0.000000   0.019027  0.002114  \n",
              "(30, 40]  0.001073   0.031116  0.004292  \n",
              "(40, 50]  0.000000   0.048726  0.015504  \n",
              "(50, 60]  0.001082   0.040043  0.041126  \n",
              "(60, 70]  0.000000   0.041002  0.093394  \n",
              "(70, 80]  0.000000   0.027094  0.315271  "
            ]
          },
          "execution_count": 63,
          "metadata": {},
          "output_type": "execute_result"
        }
      ],
      "source": [
        "dx.apply(lambda x: x/np.sum(dx,axis=1))"
      ]
    },
    {
      "cell_type": "markdown",
      "metadata": {
        "id": "8qZ1nh4hnBZl"
      },
      "source": [
        "__Q2a.__ Comment on the trends that you see in this series of marginal distributions."
      ]
    },
    {
      "cell_type": "raw",
      "metadata": {
        "id": "95cBmSWvnBZl"
      },
      "source": [
        ""
      ]
    },
    {
      "cell_type": "markdown",
      "metadata": {
        "id": "FpkB8iNYnBZl"
      },
      "source": [
        "## Question 3\n",
        "\n",
        "Construct a histogram of the distribution of heights using the BMXHT variable in the NHANES sample."
      ]
    },
    {
      "cell_type": "code",
      "execution_count": null,
      "metadata": {
        "id": "gB86K_s2nBZl"
      },
      "outputs": [],
      "source": [
        "da['BMXHT'].dropna(inplace=True)"
      ]
    },
    {
      "cell_type": "code",
      "execution_count": null,
      "metadata": {
        "id": "UfYOZL6hnBZl",
        "outputId": "368f8970-5129-4f05-a5bb-54006ae8a354"
      },
      "outputs": [
        {
          "data": {
            "text/plain": [
              "<matplotlib.axes._subplots.AxesSubplot at 0x7f722dd154a8>"
            ]
          },
          "execution_count": 105,
          "metadata": {},
          "output_type": "execute_result"
        },
        {
          "data": {
            "image/png": "[encoded data removed]",
            "text/plain": [
              "<Figure size 432x288 with 1 Axes>"
            ]
          },
          "metadata": {},
          "output_type": "display_data"
        }
      ],
      "source": [
        "sns.distplot(da['BMXHT'])"
      ]
    },
    {
      "cell_type": "markdown",
      "metadata": {
        "id": "bWOz6YFqnBZl"
      },
      "source": [
        "__Q3a.__ Use the `bins` argument to [distplot](https://seaborn.pydata.org/generated/seaborn.distplot.html) to produce histograms with different numbers of bins.  Assess whether the default value for this argument gives a meaningful result, and comment on what happens as the number of bins grows excessively large or excessively small. "
      ]
    },
    {
      "cell_type": "code",
      "execution_count": null,
      "metadata": {
        "id": "6uA4Yk5knBZl",
        "outputId": "2ec23c70-fda0-4ab4-fe8d-3dc353f3b008"
      },
      "outputs": [
        {
          "data": {
            "text/plain": [
              "<matplotlib.axes._subplots.AxesSubplot at 0x7f722dd00b70>"
            ]
          },
          "execution_count": 106,
          "metadata": {},
          "output_type": "execute_result"
        },
        {
          "data": {
            "image/png": "[encoded data removed]",
            "text/plain": [
              "<Figure size 432x288 with 1 Axes>"
            ]
          },
          "metadata": {},
          "output_type": "display_data"
        }
      ],
      "source": [
        "sns.distplot(da['BMXHT'],bins=10)"
      ]
    },
    {
      "cell_type": "code",
      "execution_count": null,
      "metadata": {
        "id": "dX_LrcKRnBZl",
        "outputId": "d88ae042-1734-4814-eaba-a1279b48b87e"
      },
      "outputs": [
        {
          "data": {
            "text/plain": [
              "<matplotlib.axes._subplots.AxesSubplot at 0x7f722d57f320>"
            ]
          },
          "execution_count": 107,
          "metadata": {},
          "output_type": "execute_result"
        },
        {
          "data": {
            "image/png": "[encoded data removed]",
            "text/plain": [
              "<Figure size 432x288 with 1 Axes>"
            ]
          },
          "metadata": {},
          "output_type": "display_data"
        }
      ],
      "source": [
        "sns.distplot(da['BMXHT'],bins=50)"
      ]
    },
    {
      "cell_type": "markdown",
      "metadata": {
        "id": "MS0vZGC4nBZm"
      },
      "source": [
        "__Q3b.__ Make separate histograms for the heights of women and men, then make a side-by-side boxplot showing the heights of women and men."
      ]
    },
    {
      "cell_type": "code",
      "execution_count": null,
      "metadata": {
        "id": "M3PRVkU1nBZm",
        "outputId": "8e8e7cfe-7dbc-47e8-8592-812101584349"
      },
      "outputs": [
        {
          "data": {
            "text/plain": [
              "<matplotlib.axes._subplots.AxesSubplot at 0x7f722d146978>"
            ]
          },
          "execution_count": 121,
          "metadata": {},
          "output_type": "execute_result"
        },
        {
          "data": {
            "image/png": "[encoded data removed]",
            "text/plain": [
              "<Figure size 432x288 with 1 Axes>"
            ]
          },
          "metadata": {},
          "output_type": "display_data"
        }
      ],
      "source": [
        "sns.boxplot(x = da['RIAGENDR'], y=da['BMXHT'])"
      ]
    },
    {
      "cell_type": "markdown",
      "metadata": {
        "id": "yorqeSDZnBZm"
      },
      "source": [
        "## Question 4\n",
        "\n",
        "Make a boxplot showing the distribution of within-subject differences between the first and second systolic blood pressure measurents ([BPXSY1](https://wwwn.cdc.gov/Nchs/Nhanes/2015-2016/BPX_I.htm#BPXSY1) and [BPXSY2](https://wwwn.cdc.gov/Nchs/Nhanes/2015-2016/BPX_I.htm#BPXSY2))."
      ]
    },
    {
      "cell_type": "code",
      "execution_count": null,
      "metadata": {
        "id": "MycOEOVXnBZm",
        "outputId": "3826b345-a8af-46a2-fd00-f3d8eac30117"
      },
      "outputs": [
        {
          "data": {
            "text/plain": [
              "<matplotlib.axes._subplots.AxesSubplot at 0x7f722c246eb8>"
            ]
          },
          "execution_count": 135,
          "metadata": {},
          "output_type": "execute_result"
        },
        {
          "data": {
            "image/png": "[encoded data removed]",
            "text/plain": [
              "<Figure size 432x288 with 1 Axes>"
            ]
          },
          "metadata": {},
          "output_type": "display_data"
        }
      ],
      "source": [
        "da['diffBP'] =  da['BPXSY1'] -  da['BPXSY2']\n",
        "sns.boxplot(data = da['diffBP'])"
      ]
    },
    {
      "cell_type": "markdown",
      "metadata": {
        "id": "bWyiCHWqnBZm"
      },
      "source": [
        "__Q4a.__ What proportion of the subjects have a lower SBP on the second reading compared to the first?"
      ]
    },
    {
      "cell_type": "code",
      "execution_count": null,
      "metadata": {
        "id": "lEXk0QCUnBZm",
        "outputId": "6d17ce74-11da-4ec3-b470-722a7e391756"
      },
      "outputs": [
        {
          "data": {
            "text/plain": [
              "0.3412380122057541"
            ]
          },
          "execution_count": 138,
          "metadata": {},
          "output_type": "execute_result"
        }
      ],
      "source": [
        "np.sum((da['diffBP'] < 0).astype(int))/len(da)"
      ]
    },
    {
      "cell_type": "markdown",
      "metadata": {
        "id": "dzR4KABNnBZm"
      },
      "source": [
        "__Q4b.__ Make side-by-side boxplots of the two systolic blood pressure variables."
      ]
    },
    {
      "cell_type": "code",
      "execution_count": null,
      "metadata": {
        "id": "e8lkH9ThnBZn",
        "outputId": "b5a788f5-526d-4705-9ecf-13b8a25949b4"
      },
      "outputs": [
        {
          "data": {
            "text/plain": [
              "<matplotlib.axes._subplots.AxesSubplot at 0x7f722c1b5278>"
            ]
          },
          "execution_count": 139,
          "metadata": {},
          "output_type": "execute_result"
        },
        {
          "data": {
            "image/png": "[encoded data removed]",
            "text/plain": [
              "<Figure size 432x288 with 1 Axes>"
            ]
          },
          "metadata": {},
          "output_type": "display_data"
        }
      ],
      "source": [
        "sns.boxplot(data = da[['BPXSY1','BPXSY2']])"
      ]
    },
    {
      "cell_type": "markdown",
      "metadata": {
        "id": "WywVkEXjnBZn"
      },
      "source": [
        "## Question 5\n",
        "\n",
        "Construct a frequency table of household sizes for people within each educational attainment category (the relevant variable is [DMDEDUC2](https://wwwn.cdc.gov/Nchs/Nhanes/2015-2016/DEMO_I.htm#DMDEDUC2)).  Convert the frequencies to proportions."
      ]
    },
    {
      "cell_type": "code",
      "execution_count": null,
      "metadata": {
        "scrolled": true,
        "id": "mcXDKYrunBZn",
        "outputId": "cbfdae11-fc9a-4a6c-f0f7-b8c2fc231a11"
      },
      "outputs": [
        {
          "data": {
            "text/plain": [
              "0    2\n",
              "1    1\n",
              "2    2\n",
              "3    1\n",
              "Name: DMDHHSIZ, dtype: int64"
            ]
          },
          "execution_count": 154,
          "metadata": {},
          "output_type": "execute_result"
        }
      ],
      "source": [
        "da['DMDHHSIZ'].head(4)"
      ]
    },
    {
      "cell_type": "code",
      "execution_count": null,
      "metadata": {
        "id": "Ct3N96L6nBZn"
      },
      "outputs": [],
      "source": [
        "dx = da.groupby(da['DMDEDUC2'])['DMDHHSIZ'].value_counts()"
      ]
    },
    {
      "cell_type": "code",
      "execution_count": null,
      "metadata": {
        "id": "KNXxL1LpnBZn",
        "outputId": "778d3212-ea67-4375-86be-cf8f23b07aae"
      },
      "outputs": [
        {
          "data": {
            "text/plain": [
              "DMDEDUC2  DMDHHSIZ\n",
              "1.0       2           147\n",
              "          5            97\n",
              "          3            96\n",
              "          4            87\n",
              "          7            85\n",
              "Name: DMDHHSIZ, dtype: int64"
            ]
          },
          "execution_count": 159,
          "metadata": {},
          "output_type": "execute_result"
        }
      ],
      "source": [
        "dx.head(5)"
      ]
    },
    {
      "cell_type": "code",
      "execution_count": null,
      "metadata": {
        "id": "Pl3rwbgDnBZn"
      },
      "outputs": [],
      "source": [
        "dx = dx.unstack()"
      ]
    },
    {
      "cell_type": "code",
      "execution_count": null,
      "metadata": {
        "id": "nTkrnD6BnBZn"
      },
      "outputs": [],
      "source": [
        "dx = dx.fillna(0)"
      ]
    },
    {
      "cell_type": "code",
      "execution_count": null,
      "metadata": {
        "id": "cFdrMIJZnBZn",
        "outputId": "ec3124f7-7516-4e11-ad1a-166a8f2f4afb"
      },
      "outputs": [
        {
          "data": {
            "text/html": [
              "<div>\n",
              "<style scoped>\n",
              "    .dataframe tbody tr th:only-of-type {\n",
              "        vertical-align: middle;\n",
              "    }\n",
              "\n",
              "    .dataframe tbody tr th {\n",
              "        vertical-align: top;\n",
              "    }\n",
              "\n",
              "    .dataframe thead th {\n",
              "        text-align: right;\n",
              "    }\n",
              "</style>\n",
              "<table border=\"1\" class=\"dataframe\">\n",
              "  <thead>\n",
              "    <tr style=\"text-align: right;\">\n",
              "      <th>DMDHHSIZ</th>\n",
              "      <th>1</th>\n",
              "      <th>2</th>\n",
              "      <th>3</th>\n",
              "      <th>4</th>\n",
              "      <th>5</th>\n",
              "      <th>6</th>\n",
              "      <th>7</th>\n",
              "    </tr>\n",
              "    <tr>\n",
              "      <th>DMDEDUC2</th>\n",
              "      <th></th>\n",
              "      <th></th>\n",
              "      <th></th>\n",
              "      <th></th>\n",
              "      <th></th>\n",
              "      <th></th>\n",
              "      <th></th>\n",
              "    </tr>\n",
              "  </thead>\n",
              "  <tbody>\n",
              "    <tr>\n",
              "      <th>1.0</th>\n",
              "      <td>0.109924</td>\n",
              "      <td>0.224427</td>\n",
              "      <td>0.146565</td>\n",
              "      <td>0.132824</td>\n",
              "      <td>0.148092</td>\n",
              "      <td>0.108397</td>\n",
              "      <td>0.129771</td>\n",
              "    </tr>\n",
              "    <tr>\n",
              "      <th>2.0</th>\n",
              "      <td>0.116641</td>\n",
              "      <td>0.222395</td>\n",
              "      <td>0.163297</td>\n",
              "      <td>0.152411</td>\n",
              "      <td>0.146190</td>\n",
              "      <td>0.113530</td>\n",
              "      <td>0.085537</td>\n",
              "    </tr>\n",
              "    <tr>\n",
              "      <th>3.0</th>\n",
              "      <td>0.152614</td>\n",
              "      <td>0.270658</td>\n",
              "      <td>0.171164</td>\n",
              "      <td>0.161889</td>\n",
              "      <td>0.109612</td>\n",
              "      <td>0.065767</td>\n",
              "      <td>0.068297</td>\n",
              "    </tr>\n",
              "    <tr>\n",
              "      <th>4.0</th>\n",
              "      <td>0.151141</td>\n",
              "      <td>0.268970</td>\n",
              "      <td>0.193091</td>\n",
              "      <td>0.169031</td>\n",
              "      <td>0.122147</td>\n",
              "      <td>0.050586</td>\n",
              "      <td>0.045034</td>\n",
              "    </tr>\n",
              "    <tr>\n",
              "      <th>5.0</th>\n",
              "      <td>0.142753</td>\n",
              "      <td>0.347731</td>\n",
              "      <td>0.193997</td>\n",
              "      <td>0.165447</td>\n",
              "      <td>0.095168</td>\n",
              "      <td>0.029283</td>\n",
              "      <td>0.025622</td>\n",
              "    </tr>\n",
              "    <tr>\n",
              "      <th>9.0</th>\n",
              "      <td>0.000000</td>\n",
              "      <td>0.666667</td>\n",
              "      <td>0.000000</td>\n",
              "      <td>0.000000</td>\n",
              "      <td>0.333333</td>\n",
              "      <td>0.000000</td>\n",
              "      <td>0.000000</td>\n",
              "    </tr>\n",
              "  </tbody>\n",
              "</table>\n",
              "</div>"
            ],
            "text/plain": [
              "DMDHHSIZ         1         2         3         4         5         6         7\n",
              "DMDEDUC2                                                                      \n",
              "1.0       0.109924  0.224427  0.146565  0.132824  0.148092  0.108397  0.129771\n",
              "2.0       0.116641  0.222395  0.163297  0.152411  0.146190  0.113530  0.085537\n",
              "3.0       0.152614  0.270658  0.171164  0.161889  0.109612  0.065767  0.068297\n",
              "4.0       0.151141  0.268970  0.193091  0.169031  0.122147  0.050586  0.045034\n",
              "5.0       0.142753  0.347731  0.193997  0.165447  0.095168  0.029283  0.025622\n",
              "9.0       0.000000  0.666667  0.000000  0.000000  0.333333  0.000000  0.000000"
            ]
          },
          "execution_count": 168,
          "metadata": {},
          "output_type": "execute_result"
        }
      ],
      "source": [
        "dx.apply(lambda x: x/np.sum(dx,axis=1))"
      ]
    },
    {
      "cell_type": "markdown",
      "metadata": {
        "id": "HKJBcWgHnBZn"
      },
      "source": [
        "__Q5b.__ Restrict the sample to people between 30 and 40 years of age.  Then calculate the median household size for women and men within each level of educational attainment."
      ]
    },
    {
      "cell_type": "code",
      "execution_count": null,
      "metadata": {
        "id": "Un4q7XVXnBZn"
      },
      "outputs": [],
      "source": [
        "dx = da[(da['RIDAGEYR']<=40) & (da['RIDAGEYR'] >=30)]"
      ]
    },
    {
      "cell_type": "code",
      "execution_count": null,
      "metadata": {
        "id": "TOi94RdRnBZo",
        "outputId": "00b31fda-5e7f-4516-bd07-0f04b482e351"
      },
      "outputs": [
        {
          "data": {
            "text/plain": [
              "DMDEDUC2\n",
              "1.0    5\n",
              "2.0    5\n",
              "3.0    4\n",
              "4.0    4\n",
              "5.0    3\n",
              "Name: DMDHHSIZ, dtype: int64"
            ]
          },
          "execution_count": 186,
          "metadata": {},
          "output_type": "execute_result"
        }
      ],
      "source": [
        "dx.groupby(dx['DMDEDUC2'])['DMDHHSIZ'].median()"
      ]
    },
    {
      "cell_type": "markdown",
      "metadata": {
        "id": "f3ReIAFunBZo"
      },
      "source": [
        "## Question 6\n",
        "\n",
        "The participants can be clustered into \"maked variance units\" (MVU) based on every combination of the variables [SDMVSTRA](https://wwwn.cdc.gov/Nchs/Nhanes/2015-2016/DEMO_I.htm#SDMVSTRA) and [SDMVPSU](https://wwwn.cdc.gov/Nchs/Nhanes/2015-2016/DEMO_I.htm#SDMVPSU).  Calculate the mean age ([RIDAGEYR](https://wwwn.cdc.gov/Nchs/Nhanes/2015-2016/DEMO_I.htm#RIDAGEYR)), height ([BMXHT](https://wwwn.cdc.gov/Nchs/Nhanes/2015-2016/BMX_I.htm#BMXHT)), and BMI ([BMXBMI](https://wwwn.cdc.gov/Nchs/Nhanes/2015-2016/BMX_I.htm#BMXBMI)) for each gender ([RIAGENDR](https://wwwn.cdc.gov/Nchs/Nhanes/2015-2016/DEMO_I.htm#RIAGENDR)), within each MVU, and report the ratio between the largest and smallest mean (e.g. for height) across the MVUs."
      ]
    },
    {
      "cell_type": "code",
      "execution_count": null,
      "metadata": {
        "id": "5sgGi4oJnBZo"
      },
      "outputs": [],
      "source": [
        "# insert your code here"
      ]
    },
    {
      "cell_type": "markdown",
      "metadata": {
        "id": "gOEG45tfnBZo"
      },
      "source": [
        "__Q6a.__ Comment on the extent to which mean age, height, and BMI vary among the MVUs."
      ]
    },
    {
      "cell_type": "raw",
      "metadata": {
        "id": "SfX7xxJmnBZo"
      },
      "source": [
        ""
      ]
    },
    {
      "cell_type": "markdown",
      "metadata": {
        "id": "G8xcmZRAnBZo"
      },
      "source": [
        "__Q6b.__ Calculate the inter-quartile range (IQR) for age, height, and BMI for each gender and each MVU.  Report the ratio between the largest and smalles IQR across the MVUs."
      ]
    },
    {
      "cell_type": "code",
      "execution_count": null,
      "metadata": {
        "id": "DRQ1uCkMnBZo"
      },
      "outputs": [],
      "source": [
        "# insert your code here"
      ]
    },
    {
      "cell_type": "markdown",
      "metadata": {
        "id": "hXn2ihkfnBZo"
      },
      "source": [
        "__Q6c.__ Comment on the extent to which the IQR for age, height, and BMI vary among the MVUs."
      ]
    },
    {
      "cell_type": "raw",
      "metadata": {
        "id": "puiitm8NnBZo"
      },
      "source": [
        ""
      ]
    }
  ],
  "metadata": {
    "kernelspec": {
      "display_name": "Python 3",
      "language": "python",
      "name": "python3"
    },
    "language_info": {
      "codemirror_mode": {
        "name": "ipython",
        "version": 3
      },
      "file_extension": ".py",
      "mimetype": "text/x-python",
      "name": "python",
      "nbconvert_exporter": "python",
      "pygments_lexer": "ipython3",
      "version": "3.6.3"
    },
    "colab": {
      "name": "nhanes_univariate_practice.ipynb",
      "provenance": [],
      "include_colab_link": true
    }
  },
  "nbformat": 4,
  "nbformat_minor": 0
}