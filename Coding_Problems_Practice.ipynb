{
  "nbformat": 4,
  "nbformat_minor": 0,
  "metadata": {
    "colab": {
      "name": "Coding Problems Practice.ipynb",
      "provenance": [],
      "authorship_tag": "ABX9TyNxG2RltQ3QBn8J0za2bJF0",
      "include_colab_link": true
    },
    "kernelspec": {
      "name": "python3",
      "display_name": "Python 3"
    },
    "language_info": {
      "name": "python"
    }
  },
  "cells": [
    {
      "cell_type": "markdown",
      "metadata": {
        "id": "view-in-github",
        "colab_type": "text"
      },
      "source": [
        "<a href=\"https://colab.research.google.com/github/eugenewong-ai/refresher/blob/main/Coding_Problems_Practice.ipynb\" target=\"_parent\"><img src=\"https://colab.research.google.com/assets/colab-badge.svg\" alt=\"Open In Colab\"/></a>"
      ]
    },
    {
      "cell_type": "markdown",
      "source": [
        "# Problem: Find the second largest number in an array!\n",
        "\n",
        "You are given an array (or a Python list) of integers.\n",
        "\n",
        "For example, [1, 3, 4, 5, 0, 2].\n",
        "\n",
        "Write a function, second_largest(given_list), which takes the list as the input, and returns the second largest number.\n",
        "\n",
        "## Examples:\n",
        "\n",
        "- **second_largest( [1, 3, 4, 5, 0, 2] )** should return 4.\n",
        "- **second_largest( [-2, -1] )** should return -2.\n",
        "- **second_largest( [2, 2, 1] )** should return 2.\n",
        "- **second_largest( [2] )** should return None.\n",
        "- **second_largest( [] )** should return None."
      ],
      "metadata": {
        "id": "EGi67Ki0lTcO"
      }
    },
    {
      "cell_type": "markdown",
      "source": [
        "## Solution 1"
      ],
      "metadata": {
        "id": "kbH1sro6oagZ"
      }
    },
    {
      "cell_type": "code",
      "source": [
        "list_a = [1,3,4,5,0,2]"
      ],
      "metadata": {
        "id": "20gtnzq5hgmS"
      },
      "execution_count": 18,
      "outputs": []
    },
    {
      "cell_type": "code",
      "source": [
        "max_value = 0\n",
        "prev_value = 0"
      ],
      "metadata": {
        "id": "CyZShCj1j3Ng"
      },
      "execution_count": 19,
      "outputs": []
    },
    {
      "cell_type": "code",
      "source": [
        "for new_value in list_a:\n",
        "\n",
        "  if max_value < new_value:\n",
        "    prev_value = max_value\n",
        "    max_value = new_value\n",
        "\n",
        "  elif max_value > new_value:\n",
        "    if prev_value < new_value:\n",
        "      prev_value = new_value\n",
        "\n",
        "print (max_value)\n",
        "print (prev_value)"
      ],
      "metadata": {
        "colab": {
          "base_uri": "https://localhost:8080/"
        },
        "id": "NCKJULHBhg2y",
        "outputId": "19343ca5-ebbf-4eff-e38e-4ef189fff0da"
      },
      "execution_count": 20,
      "outputs": [
        {
          "output_type": "stream",
          "name": "stdout",
          "text": [
            "5\n",
            "4\n"
          ]
        }
      ]
    },
    {
      "cell_type": "markdown",
      "source": [
        "## Solution 2"
      ],
      "metadata": {
        "id": "xoTofKBKoeZY"
      }
    },
    {
      "cell_type": "code",
      "source": [
        "def get_second_largest(list_a):\n",
        "  largest = None\n",
        "  second_largest = None\n",
        "  for new_value in list_a:\n",
        "    if largest == None:\n",
        "      largest = new_value\n",
        "    elif new_value >= largest:\n",
        "      second_largest = largest\n",
        "      largest = new_value\n",
        "    elif second_largest == None:\n",
        "      return None\n",
        "  return second_largest"
      ],
      "metadata": {
        "id": "ABeXb5uvmrBx"
      },
      "execution_count": 61,
      "outputs": []
    },
    {
      "cell_type": "code",
      "source": [
        "get_second_largest([1,3,4,5,0,2])"
      ],
      "metadata": {
        "colab": {
          "base_uri": "https://localhost:8080/"
        },
        "id": "nESu1woWm2TF",
        "outputId": "c908ccd4-61f9-45f4-b763-20db22c14619"
      },
      "execution_count": 62,
      "outputs": [
        {
          "output_type": "execute_result",
          "data": {
            "text/plain": [
              "4"
            ]
          },
          "metadata": {},
          "execution_count": 62
        }
      ]
    },
    {
      "cell_type": "code",
      "source": [
        "get_second_largest([2,2,1])"
      ],
      "metadata": {
        "colab": {
          "base_uri": "https://localhost:8080/"
        },
        "id": "mgR687M-m57z",
        "outputId": "e9170539-926f-4301-c483-b358bce4c201"
      },
      "execution_count": 63,
      "outputs": [
        {
          "output_type": "execute_result",
          "data": {
            "text/plain": [
              "2"
            ]
          },
          "metadata": {},
          "execution_count": 63
        }
      ]
    },
    {
      "cell_type": "code",
      "source": [
        "get_second_largest([2])"
      ],
      "metadata": {
        "id": "GLgPnRcUm7gC"
      },
      "execution_count": 64,
      "outputs": []
    },
    {
      "cell_type": "code",
      "source": [
        "get_second_largest([])"
      ],
      "metadata": {
        "id": "_s4HZnJmpTsR"
      },
      "execution_count": 65,
      "outputs": []
    },
    {
      "cell_type": "code",
      "source": [
        ""
      ],
      "metadata": {
        "id": "hWMSlwFNplR8"
      },
      "execution_count": null,
      "outputs": []
    },
    {
      "cell_type": "markdown",
      "source": [
        "# Problem: Compare two strings as numbers!\n",
        "\n",
        "You are given two non-negative integers in strings.\n",
        "\n",
        "Example: \"1221\" and \"123\"\n",
        "\n",
        "Write a function, larger_than(a, b) which returns True if the first number is larger than the second one.\n",
        "\n",
        "***Solve this problem without converting the strings to numbers!***\n",
        "\n",
        "## Examples:\n",
        "\n",
        "- **larger_than( \"112\", \"111\" )** should return True.\n",
        "- **larger_than( \"525\", \"1111\" )** should return False.\n",
        "- **larger_than( \"11\", \"0\" )** should return True.\n",
        "- **larger_than( \"1\", \"1\" )** should return False."
      ],
      "metadata": {
        "id": "76E9d922pqZr"
      }
    },
    {
      "cell_type": "markdown",
      "source": [
        "## Solution 1"
      ],
      "metadata": {
        "id": "5GHirFjdrV4J"
      }
    },
    {
      "cell_type": "code",
      "source": [
        "def larger_than(a,b):\n",
        "  firstnum = int(a)\n",
        "  secondnum = int(b)\n",
        "  if firstnum > secondnum:\n",
        "    return True\n",
        "  elif secondnum > firstnum:\n",
        "    return False\n",
        "  else:\n",
        "    return False"
      ],
      "metadata": {
        "id": "9VtHzXdFqHMm"
      },
      "execution_count": 66,
      "outputs": []
    },
    {
      "cell_type": "code",
      "source": [
        "larger_than( \"112\", \"111\" )"
      ],
      "metadata": {
        "colab": {
          "base_uri": "https://localhost:8080/"
        },
        "id": "oKh20K6XptLD",
        "outputId": "d4c8ce5c-5545-4814-d371-3358973dbf1a"
      },
      "execution_count": 69,
      "outputs": [
        {
          "output_type": "execute_result",
          "data": {
            "text/plain": [
              "True"
            ]
          },
          "metadata": {},
          "execution_count": 69
        }
      ]
    },
    {
      "cell_type": "code",
      "source": [
        "larger_than( \"525\", \"1111\" )"
      ],
      "metadata": {
        "colab": {
          "base_uri": "https://localhost:8080/"
        },
        "id": "hCIsLRfQrCS0",
        "outputId": "3ea138dc-ba1c-437a-8329-81fa91e31785"
      },
      "execution_count": 70,
      "outputs": [
        {
          "output_type": "execute_result",
          "data": {
            "text/plain": [
              "False"
            ]
          },
          "metadata": {},
          "execution_count": 70
        }
      ]
    },
    {
      "cell_type": "code",
      "source": [
        "larger_than( \"11\", \"0\" )"
      ],
      "metadata": {
        "colab": {
          "base_uri": "https://localhost:8080/"
        },
        "id": "VFvqCTYlrFPI",
        "outputId": "1e0e3fa1-914a-4b4c-f51f-e1bfd78abfdb"
      },
      "execution_count": 71,
      "outputs": [
        {
          "output_type": "execute_result",
          "data": {
            "text/plain": [
              "True"
            ]
          },
          "metadata": {},
          "execution_count": 71
        }
      ]
    },
    {
      "cell_type": "code",
      "source": [
        "larger_than( \"1\", \"1\" )"
      ],
      "metadata": {
        "colab": {
          "base_uri": "https://localhost:8080/"
        },
        "id": "v1AM2YlUrGke",
        "outputId": "786e803f-0c6f-487f-b957-2c86886b213a"
      },
      "execution_count": 72,
      "outputs": [
        {
          "output_type": "execute_result",
          "data": {
            "text/plain": [
              "False"
            ]
          },
          "metadata": {},
          "execution_count": 72
        }
      ]
    },
    {
      "cell_type": "markdown",
      "source": [
        "## Solution 2\n",
        "\n"
      ],
      "metadata": {
        "id": "298GpJ-mrZhm"
      }
    },
    {
      "cell_type": "code",
      "source": [
        "def larger_than(a,b):\n",
        "  if len(a) > len(b):\n",
        "    return True\n",
        "  elif len(b) > len(a):\n",
        "    return False\n",
        "  elif len(a) == len(b):\n",
        "    for idx in range(0,len(a)):\n",
        "      if a[idx] > b[idx]:\n",
        "        return True\n",
        "      elif b[idx] > a[idx]:\n",
        "        return False\n",
        "    return False "
      ],
      "metadata": {
        "id": "xuYDz7aSrcXy"
      },
      "execution_count": 87,
      "outputs": []
    },
    {
      "cell_type": "code",
      "source": [
        "larger_than(\"11\",\"11\")"
      ],
      "metadata": {
        "colab": {
          "base_uri": "https://localhost:8080/"
        },
        "id": "lvBxixnWsX9v",
        "outputId": "2ae51418-99b6-4540-fa15-43123a37fe91"
      },
      "execution_count": 88,
      "outputs": [
        {
          "output_type": "execute_result",
          "data": {
            "text/plain": [
              "False"
            ]
          },
          "metadata": {},
          "execution_count": 88
        }
      ]
    },
    {
      "cell_type": "markdown",
      "source": [
        "# Problem: Can rooks attack one another?\n",
        "\n",
        "You are given a configuration of a chessboard with rooks in a 2 dimensional array.\n",
        "\n",
        "Example Input:  \n",
        "[[1, 0, 0, 0],  \n",
        " [0, 1, 0, 0],  \n",
        " [0, 0, 0, 1],  \n",
        " [0, 0, 0, 0]]\n",
        "\n",
        "1 represents that a rook is in the corresponding space on the board, and 0 represents that there's nothing there.\n",
        "\n",
        "***Remember, rooks are able to move horizontally and vertically over any number of spaces.***\n",
        "\n",
        "Write a function, rooks_are_safe(input) which returns True if none of the rooks can attack each other."
      ],
      "metadata": {
        "id": "_iEG4agFvCvS"
      }
    },
    {
      "cell_type": "markdown",
      "source": [
        "## Solution 1"
      ],
      "metadata": {
        "id": "CMKPJmY3xCGD"
      }
    },
    {
      "cell_type": "code",
      "source": [
        "array_a = [[1,0,0,0],\n",
        " [0,1,0,0],\n",
        " [0,0,0,1],\n",
        " [0,0,0,0]]"
      ],
      "metadata": {
        "id": "IRYCMJKDvE7G"
      },
      "execution_count": 107,
      "outputs": []
    },
    {
      "cell_type": "code",
      "source": [
        "def rooks_are_safe(input):\n",
        "  count = 0\n",
        "  # check rows\n",
        "  for i in range(0,len(input)):\n",
        "    for j in range(0,len(input[i])):\n",
        "      if input[i][j] == 1:\n",
        "        count += 1\n",
        "    if count > 1:\n",
        "      return False\n",
        "    else:\n",
        "      count = 0\n",
        "\n",
        "  # check columns\n",
        "  for i in range(0,len(input)):\n",
        "    for j in range(0,len(input[i])):\n",
        "      if input[j][i] == 1:\n",
        "        count += 1\n",
        "    if count > 1:\n",
        "      return False\n",
        "    else:\n",
        "      count = 0\n",
        "\n",
        "  return True"
      ],
      "metadata": {
        "id": "SrXgQbjfvQjV"
      },
      "execution_count": 164,
      "outputs": []
    },
    {
      "cell_type": "code",
      "source": [
        "rooks_are_safe(array_a)"
      ],
      "metadata": {
        "colab": {
          "base_uri": "https://localhost:8080/"
        },
        "id": "Pa8bq88BwI8i",
        "outputId": "deaf7b9d-58ab-41ff-86e0-4383d5354b40"
      },
      "execution_count": 165,
      "outputs": [
        {
          "output_type": "execute_result",
          "data": {
            "text/plain": [
              "True"
            ]
          },
          "metadata": {},
          "execution_count": 165
        }
      ]
    },
    {
      "cell_type": "code",
      "source": [
        "print(\"\"\"\n",
        "Are rooks safe in this board? (Should be True.)\n",
        "[[1]]\n",
        "\"\"\")\n",
        "\n",
        "rooks_are_safe([[1]])"
      ],
      "metadata": {
        "colab": {
          "base_uri": "https://localhost:8080/"
        },
        "id": "_F5TGQTs3MEY",
        "outputId": "b10b165d-80c7-4881-a255-d2d75a5c7c0e"
      },
      "execution_count": 166,
      "outputs": [
        {
          "output_type": "stream",
          "name": "stdout",
          "text": [
            "\n",
            "Are rooks safe in this board? (Should be True.)\n",
            "[[1]]\n",
            "\n"
          ]
        },
        {
          "output_type": "execute_result",
          "data": {
            "text/plain": [
              "True"
            ]
          },
          "metadata": {},
          "execution_count": 166
        }
      ]
    },
    {
      "cell_type": "code",
      "source": [
        "print(\"\"\"\n",
        "Are rooks safe in this board? (Should be False.)\n",
        "[[1, 0],\n",
        " [1, 0]]\n",
        "\"\"\")\n",
        "\n",
        "rooks_are_safe(\n",
        "[[1, 0],\n",
        " [1, 0]])"
      ],
      "metadata": {
        "colab": {
          "base_uri": "https://localhost:8080/"
        },
        "id": "cCTvnBvu3MCH",
        "outputId": "7f09188f-483e-47f9-92d2-a606a227ccc6"
      },
      "execution_count": 167,
      "outputs": [
        {
          "output_type": "stream",
          "name": "stdout",
          "text": [
            "\n",
            "Are rooks safe in this board? (Should be False.)\n",
            "[[1, 0],\n",
            " [1, 0]]\n",
            "\n"
          ]
        },
        {
          "output_type": "execute_result",
          "data": {
            "text/plain": [
              "False"
            ]
          },
          "metadata": {},
          "execution_count": 167
        }
      ]
    },
    {
      "cell_type": "code",
      "source": [
        "print(\"\"\"\n",
        "Are rooks safe in this board? (Should be False.)\n",
        "[[0, 0, 0],\n",
        " [1, 0, 1],\n",
        " [0, 0, 0]]\n",
        "\"\"\")\n",
        "\n",
        "rooks_are_safe(\n",
        "[[0, 0, 0],\n",
        " [1, 0, 1],\n",
        " [0, 0, 0]])"
      ],
      "metadata": {
        "colab": {
          "base_uri": "https://localhost:8080/"
        },
        "id": "jXhzJli93L_5",
        "outputId": "ccfcacca-3f4c-40af-f771-cb1e0831db6e"
      },
      "execution_count": 168,
      "outputs": [
        {
          "output_type": "stream",
          "name": "stdout",
          "text": [
            "\n",
            "Are rooks safe in this board? (Should be False.)\n",
            "[[0, 0, 0],\n",
            " [1, 0, 1],\n",
            " [0, 0, 0]]\n",
            "\n"
          ]
        },
        {
          "output_type": "execute_result",
          "data": {
            "text/plain": [
              "False"
            ]
          },
          "metadata": {},
          "execution_count": 168
        }
      ]
    },
    {
      "cell_type": "code",
      "source": [
        ""
      ],
      "metadata": {
        "id": "v5R7Rjvj3L3r"
      },
      "execution_count": null,
      "outputs": []
    },
    {
      "cell_type": "code",
      "source": [
        ""
      ],
      "metadata": {
        "id": "0K95sAF32gPN"
      },
      "execution_count": null,
      "outputs": []
    }
  ]
}